{
 "cells": [
  {
   "cell_type": "code",
   "execution_count": null,
   "id": "3b0fd425",
   "metadata": {
    "vscode": {
     "languageId": "plaintext"
    }
   },
   "outputs": [],
   "source": [
    "| Shortcut        | Action                 |\n",
    "| --------------- | ---------------------- |\n",
    "| `Up` / `Down`   | Move between cells     |\n",
    "| `Enter`         | Enter **edit** mode    |\n",
    "| `Esc`           | Enter **command** mode |\n",
    "| `Shift + Enter` | Run cell, select below |\n",
    "| `Ctrl + Enter`  | Run cell in-place      |\n",
    "| `Alt + Enter`   | Run cell, insert below |\n",
    "| Shortcut           | Action               |\n",
    "| ------------------ | -------------------- |\n",
    "| `Ctrl + Shift + -` | Split cell at cursor |\n",
    "| `Ctrl + /`         | Toggle comment       |\n",
    "| `Tab`              | Code completion      |\n",
    "| `Shift + Tab`      | Tooltip/help         |\n",
    "| `Ctrl + Z` / `Y`   | Undo / Redo          |\n",
    "| Shortcut    | Action                      |\n",
    "| ----------- | --------------------------- |\n",
    "| `A`         | Insert cell **above**       |\n",
    "| `B`         | Insert cell **below**       |\n",
    "| `X`         | Cut selected cell           |\n",
    "| `C`         | Copy selected cell          |\n",
    "| `V`         | Paste below                 |\n",
    "| `Shift + V` | Paste above                 |\n",
    "| `D D`       | Delete selected cell        |\n",
    "| `Z`         | Undo cell deletion          |\n",
    "| `Y`         | Change to **code** cell     |\n",
    "| `M`         | Change to **markdown** cell |\n",
    "| `R`         | Change to **raw** cell      |\n",
    "| `L`         | Toggle line numbers         |\n",
    "| `O`         | Toggle output visibility    |\n",
    "| `Shift + O` | Toggle output scrolling     |"
   ]
  }
 ],
 "metadata": {
  "language_info": {
   "name": "python"
  }
 },
 "nbformat": 4,
 "nbformat_minor": 5
}
